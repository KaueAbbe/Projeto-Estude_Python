{
  "nbformat": 4,
  "nbformat_minor": 0,
  "metadata": {
    "colab": {
      "provenance": [],
      "authorship_tag": "ABX9TyOSNmWYhsBdC2hlAYv1mlxR",
      "include_colab_link": true
    },
    "kernelspec": {
      "name": "python3",
      "display_name": "Python 3"
    },
    "language_info": {
      "name": "python"
    }
  },
  "cells": [
    {
      "cell_type": "markdown",
      "metadata": {
        "id": "view-in-github",
        "colab_type": "text"
      },
      "source": [
        "<a href=\"https://colab.research.google.com/github/KaueAbbe/Projeto-Estude_Python/blob/main/Estude%20Deep%20Learning/DeepLearning1.ipynb\" target=\"_parent\"><img src=\"https://colab.research.google.com/assets/colab-badge.svg\" alt=\"Open In Colab\"/></a>"
      ]
    },
    {
      "cell_type": "markdown",
      "source": [
        "# Classificando Roupas\n",
        "**Objetivo**: Usar Deep Learning para classificar diferentes tipos de roupas\n",
        "\n",
        "# Importar dados e Bibliotecas"
      ],
      "metadata": {
        "id": "yZDbQeC6Y6KB"
      }
    },
    {
      "cell_type": "code",
      "source": [
        "import matplotlib.pyplot as plt\n",
        "import tensorflow\n",
        "import numpy as np"
      ],
      "metadata": {
        "id": "4Zfx-ackeDt6"
      },
      "execution_count": null,
      "outputs": []
    },
    {
      "cell_type": "code",
      "execution_count": null,
      "metadata": {
        "colab": {
          "base_uri": "https://localhost:8080/"
        },
        "id": "14t825EgX0w_",
        "outputId": "64d0270d-3624-476a-a71f-fff165bb0653"
      },
      "outputs": [
        {
          "output_type": "stream",
          "name": "stdout",
          "text": [
            "Downloading data from https://storage.googleapis.com/tensorflow/tf-keras-datasets/train-labels-idx1-ubyte.gz\n",
            "29515/29515 [==============================] - 0s 0us/step\n",
            "Downloading data from https://storage.googleapis.com/tensorflow/tf-keras-datasets/train-images-idx3-ubyte.gz\n",
            "26421880/26421880 [==============================] - 1s 0us/step\n",
            "Downloading data from https://storage.googleapis.com/tensorflow/tf-keras-datasets/t10k-labels-idx1-ubyte.gz\n",
            "5148/5148 [==============================] - 0s 0us/step\n",
            "Downloading data from https://storage.googleapis.com/tensorflow/tf-keras-datasets/t10k-images-idx3-ubyte.gz\n",
            "4422102/4422102 [==============================] - 1s 0us/step\n"
          ]
        },
        {
          "output_type": "execute_result",
          "data": {
            "text/plain": [
              "array([[[0, 0, 0, ..., 0, 0, 0],\n",
              "        [0, 0, 0, ..., 0, 0, 0],\n",
              "        [0, 0, 0, ..., 0, 0, 0],\n",
              "        ...,\n",
              "        [0, 0, 0, ..., 0, 0, 0],\n",
              "        [0, 0, 0, ..., 0, 0, 0],\n",
              "        [0, 0, 0, ..., 0, 0, 0]],\n",
              "\n",
              "       [[0, 0, 0, ..., 0, 0, 0],\n",
              "        [0, 0, 0, ..., 0, 0, 0],\n",
              "        [0, 0, 0, ..., 0, 0, 0],\n",
              "        ...,\n",
              "        [0, 0, 0, ..., 0, 0, 0],\n",
              "        [0, 0, 0, ..., 0, 0, 0],\n",
              "        [0, 0, 0, ..., 0, 0, 0]],\n",
              "\n",
              "       [[0, 0, 0, ..., 0, 0, 0],\n",
              "        [0, 0, 0, ..., 0, 0, 0],\n",
              "        [0, 0, 0, ..., 0, 0, 0],\n",
              "        ...,\n",
              "        [0, 0, 0, ..., 0, 0, 0],\n",
              "        [0, 0, 0, ..., 0, 0, 0],\n",
              "        [0, 0, 0, ..., 0, 0, 0]],\n",
              "\n",
              "       ...,\n",
              "\n",
              "       [[0, 0, 0, ..., 0, 0, 0],\n",
              "        [0, 0, 0, ..., 0, 0, 0],\n",
              "        [0, 0, 0, ..., 0, 0, 0],\n",
              "        ...,\n",
              "        [0, 0, 0, ..., 0, 0, 0],\n",
              "        [0, 0, 0, ..., 0, 0, 0],\n",
              "        [0, 0, 0, ..., 0, 0, 0]],\n",
              "\n",
              "       [[0, 0, 0, ..., 0, 0, 0],\n",
              "        [0, 0, 0, ..., 0, 0, 0],\n",
              "        [0, 0, 0, ..., 0, 0, 0],\n",
              "        ...,\n",
              "        [0, 0, 0, ..., 0, 0, 0],\n",
              "        [0, 0, 0, ..., 0, 0, 0],\n",
              "        [0, 0, 0, ..., 0, 0, 0]],\n",
              "\n",
              "       [[0, 0, 0, ..., 0, 0, 0],\n",
              "        [0, 0, 0, ..., 0, 0, 0],\n",
              "        [0, 0, 0, ..., 0, 0, 0],\n",
              "        ...,\n",
              "        [0, 0, 0, ..., 0, 0, 0],\n",
              "        [0, 0, 0, ..., 0, 0, 0],\n",
              "        [0, 0, 0, ..., 0, 0, 0]]], dtype=uint8)"
            ]
          },
          "metadata": {},
          "execution_count": 2
        }
      ],
      "source": [
        "from tensorflow import keras\n",
        "dataset = keras.datasets.fashion_mnist\n",
        "((imagens_treino,identificacoes_treino),(imagens_teste, identificacoes_teste)) = dataset.load_data()\n",
        "imagens_treino"
      ]
    },
    {
      "cell_type": "code",
      "source": [
        "len(imagens_treino)"
      ],
      "metadata": {
        "colab": {
          "base_uri": "https://localhost:8080/"
        },
        "id": "PDIwWiZWbJhz",
        "outputId": "ba4e40ce-a9e0-41e4-a3f9-ba9100942435"
      },
      "execution_count": null,
      "outputs": [
        {
          "output_type": "execute_result",
          "data": {
            "text/plain": [
              "60000"
            ]
          },
          "metadata": {},
          "execution_count": 3
        }
      ]
    },
    {
      "cell_type": "code",
      "source": [
        "imagens_treino.shape"
      ],
      "metadata": {
        "colab": {
          "base_uri": "https://localhost:8080/"
        },
        "id": "S4bldBR2dS7M",
        "outputId": "15867168-cd8c-401f-dbe7-cc6d6457fe2a"
      },
      "execution_count": null,
      "outputs": [
        {
          "output_type": "execute_result",
          "data": {
            "text/plain": [
              "(60000, 28, 28)"
            ]
          },
          "metadata": {},
          "execution_count": 4
        }
      ]
    },
    {
      "cell_type": "code",
      "source": [
        "imagens_teste.shape"
      ],
      "metadata": {
        "colab": {
          "base_uri": "https://localhost:8080/"
        },
        "id": "4ZE1ZorhdXjQ",
        "outputId": "352122ee-86db-4a66-c6c9-c058ac31a5cf"
      },
      "execution_count": null,
      "outputs": [
        {
          "output_type": "execute_result",
          "data": {
            "text/plain": [
              "(10000, 28, 28)"
            ]
          },
          "metadata": {},
          "execution_count": 5
        }
      ]
    },
    {
      "cell_type": "markdown",
      "source": [
        "* Para Treino: Temos 60000 Arrays, uma matriz de 28 por 28. \n",
        "* Para Teste: Temos 10000 Arrays, uma matriz de 28 por 28. "
      ],
      "metadata": {
        "id": "XXX6HL8HdayG"
      }
    },
    {
      "cell_type": "code",
      "source": [
        "print(identificacoes_treino.shape, identificacoes_teste.shape )"
      ],
      "metadata": {
        "colab": {
          "base_uri": "https://localhost:8080/"
        },
        "id": "T3yQSzQ6dj_3",
        "outputId": "3d631400-0f51-4589-9c16-6be0770783aa"
      },
      "execution_count": null,
      "outputs": [
        {
          "output_type": "stream",
          "name": "stdout",
          "text": [
            "(60000,) (10000,)\n"
          ]
        }
      ]
    },
    {
      "cell_type": "markdown",
      "source": [
        "# Vendo as imagens\n",
        "Vamos colocar o rótulo das imagens nesta seção."
      ],
      "metadata": {
        "id": "zs7LvZLVRxAo"
      }
    },
    {
      "cell_type": "code",
      "source": [
        "plt.imshow(imagens_treino[0])\n",
        "plt.title(identificacoes_treino[0])"
      ],
      "metadata": {
        "colab": {
          "base_uri": "https://localhost:8080/",
          "height": 469
        },
        "id": "cIQdVMkZdzfi",
        "outputId": "bc9128e0-3405-420a-bb1d-1e69af1e1eb7"
      },
      "execution_count": null,
      "outputs": [
        {
          "output_type": "execute_result",
          "data": {
            "text/plain": [
              "Text(0.5, 1.0, '9')"
            ]
          },
          "metadata": {},
          "execution_count": 7
        },
        {
          "output_type": "display_data",
          "data": {
            "text/plain": [
              "<Figure size 640x480 with 1 Axes>"
            ],
            "image/png": "[encoded data removed]"
          },
          "metadata": {}
        }
      ]
    },
    {
      "cell_type": "code",
      "source": [
        "identificacoes_treino"
      ],
      "metadata": {
        "id": "RlvnWbFreKip",
        "colab": {
          "base_uri": "https://localhost:8080/"
        },
        "outputId": "d75455f4-9b0b-4f2f-e437-12df0d553762"
      },
      "execution_count": null,
      "outputs": [
        {
          "output_type": "execute_result",
          "data": {
            "text/plain": [
              "array([9, 0, 0, ..., 3, 0, 5], dtype=uint8)"
            ]
          },
          "metadata": {},
          "execution_count": 8
        }
      ]
    },
    {
      "cell_type": "code",
      "source": [
        "print(f'Valor Mínimo: {identificacoes_treino.min()} \\n Valor Máximo: {identificacoes_treino.max()}')"
      ],
      "metadata": {
        "colab": {
          "base_uri": "https://localhost:8080/"
        },
        "id": "OLZV4yK9OXwb",
        "outputId": "f9fc9993-4c47-44a8-e2e1-82a59ce52be6"
      },
      "execution_count": null,
      "outputs": [
        {
          "output_type": "stream",
          "name": "stdout",
          "text": [
            "Valor Mínimo: 0 \n",
            " Valor Máximo: 9\n"
          ]
        }
      ]
    },
    {
      "cell_type": "code",
      "source": [
        "nome_classificacoes = ['Camiseta', 'Calça', 'Pullover', 'Vestido',\n",
        "                       'Casaco', 'Sandalia', 'Camisa', 'Tenis', 'Bolsa', 'Bota']\n",
        "for imagem in range(10):\n",
        "  plt.subplot(2, 5, imagem +1)\n",
        "  plt.imshow(imagens_treino[imagem])\n",
        "  plt.title(nome_classificacoes[identificacoes_treino[imagem]])"
      ],
      "metadata": {
        "colab": {
          "base_uri": "https://localhost:8080/",
          "height": 370
        },
        "id": "qZV4TBEAOkoC",
        "outputId": "c731d030-d61e-4eaa-9250-c8bea2dbcae8"
      },
      "execution_count": null,
      "outputs": [
        {
          "output_type": "display_data",
          "data": {
            "text/plain": [
              "<Figure size 640x480 with 10 Axes>"
            ],
            "image/png": "[encoded data removed]"
          },
          "metadata": {}
        }
      ]
    },
    {
      "cell_type": "markdown",
      "source": [
        "Nosso modelo tem 3 camadas\n",
        "* entrada (Camada 0)\n",
        "* processamento\n",
        "* Saída\n",
        "Essas três camadas funcionam em conjunto. \n",
        "\n",
        "Abaixo é realizado o achatamendo dos tensores (imagens de 28x28) em um vetor unidimensional. O que faz isso é o comando Flatten. \n",
        "\n",
        "No Deep Learning é necessário compilar antes de fittar. Optimizer e loss muda de acordo com o problema que realizará."
      ],
      "metadata": {
        "id": "9q6zuKmtSzkz"
      }
    },
    {
      "cell_type": "code",
      "source": [
        "imagens_treino.shape"
      ],
      "metadata": {
        "colab": {
          "base_uri": "https://localhost:8080/"
        },
        "id": "ojZ2xWjY5L5J",
        "outputId": "e7a00f65-2a45-4cae-ac5d-2415cee8e0cb"
      },
      "execution_count": null,
      "outputs": [
        {
          "output_type": "execute_result",
          "data": {
            "text/plain": [
              "(60000, 28, 28)"
            ]
          },
          "metadata": {},
          "execution_count": 11
        }
      ]
    },
    {
      "cell_type": "code",
      "source": [
        "modelo = keras.Sequential([\n",
        "    keras.layers.Flatten(input_shape = (28,28)),\n",
        "    keras.layers.Dense(256, activation = tensorflow.nn.relu), \n",
        "    keras.layers.Dense(10, activation = tensorflow.nn.softmax)])\n",
        "\n",
        "modelo.compile(optimizer = 'adam', \n",
        "               loss = 'sparse_categorical_crossentropy')\n",
        "modelo.fit(imagens_treino, identificacoes_treino)"
      ],
      "metadata": {
        "colab": {
          "base_uri": "https://localhost:8080/"
        },
        "id": "-5O3dcW-PSij",
        "outputId": "8abf2476-a7ea-4080-e0d4-128bdd199eb7"
      },
      "execution_count": null,
      "outputs": [
        {
          "output_type": "stream",
          "name": "stdout",
          "text": [
            "1875/1875 [==============================] - 22s 10ms/step - loss: 3.4083\n"
          ]
        },
        {
          "output_type": "execute_result",
          "data": {
            "text/plain": [
              "<keras.callbacks.History at 0x7f6d7a631ae0>"
            ]
          },
          "metadata": {},
          "execution_count": 12
        }
      ]
    },
    {
      "cell_type": "markdown",
      "source": [
        "# Melhorando o Modelo\n",
        "## Camada 1\n",
        "* Agora queremos **diminuir** as perdas.\n",
        "Note abaixo que a color varia de 0 a 250. Vamos alterar os dados de treino para pontos fluentes entre 0 e 1 para refazer o modelo\n",
        "\n",
        "Este processo se chama **normalização**. "
      ],
      "metadata": {
        "id": "qmLmjjwcqp37"
      }
    },
    {
      "cell_type": "code",
      "source": [
        "nome_classificacoes = ['Camiseta', 'Calça', 'Pullover', 'Vestido',\n",
        "                       'Casaco', 'Sandalia', 'Camisa', 'Tenis', 'Bolsa', 'Bota']\n",
        "\"\"\"for imagem in range(10):\n",
        "  plt.subplot(2, 5, imagem +1)\n",
        "  plt.imshow(imagens_treino[imagem])\n",
        "  plt.title(nome_classificacoes[identificacoes_treino[imagem]])\"\"\"\n",
        "\n",
        "plt.imshow(imagens_treino[0])\n",
        "plt.colorbar()"
      ],
      "metadata": {
        "id": "QK7FJfrbddti",
        "colab": {
          "base_uri": "https://localhost:8080/",
          "height": 447
        },
        "outputId": "acc91b0c-8bf0-4a4f-f65b-0bb36048261d"
      },
      "execution_count": null,
      "outputs": [
        {
          "output_type": "execute_result",
          "data": {
            "text/plain": [
              "<matplotlib.colorbar.Colorbar at 0x7f6d68ce7760>"
            ]
          },
          "metadata": {},
          "execution_count": 13
        },
        {
          "output_type": "display_data",
          "data": {
            "text/plain": [
              "<Figure size 640x480 with 2 Axes>"
            ],
            "image/png": "[encoded data removed]"
          },
          "metadata": {}
        }
      ]
    },
    {
      "cell_type": "code",
      "source": [
        "imagens_treino = imagens_treino/255.0\n",
        "#identificacoes_treino = identificacoes_treino/255.0\n",
        "modelo = keras.Sequential([\n",
        "    keras.layers.Flatten(input_shape = (28,28)),\n",
        "    keras.layers.Dense(256, activation = tensorflow.nn.relu), \n",
        "    keras.layers.Dense(10, activation = tensorflow.nn.softmax)])\n",
        "\n",
        "modelo.compile(optimizer = 'adam', \n",
        "               loss = 'sparse_categorical_crossentropy')\n",
        "modelo.fit(imagens_treino, identificacoes_treino)"
      ],
      "metadata": {
        "colab": {
          "base_uri": "https://localhost:8080/"
        },
        "id": "rzmAFUOirIk-",
        "outputId": "e1292e03-42f5-4d47-fe60-3ed5ec1cfa59"
      },
      "execution_count": null,
      "outputs": [
        {
          "output_type": "stream",
          "name": "stdout",
          "text": [
            "1875/1875 [==============================] - 14s 7ms/step - loss: 0.4845\n"
          ]
        },
        {
          "output_type": "execute_result",
          "data": {
            "text/plain": [
              "<keras.callbacks.History at 0x7f6d68dba230>"
            ]
          },
          "metadata": {},
          "execution_count": 14
        }
      ]
    },
    {
      "cell_type": "markdown",
      "source": [
        "O modelo diminuir a perda em 10vezes ( 4,79 -> 0.48 )\n",
        "## Camada 2\n",
        "\n",
        "Vamos criar mais uma camada para alterar as interações entre camadas, fazendo um funil \"contínuo\""
      ],
      "metadata": {
        "id": "zupIAJfJsQ9J"
      }
    },
    {
      "cell_type": "code",
      "source": [
        "modelo = keras.Sequential([\n",
        "    keras.layers.Flatten(input_shape = (28,28)),\n",
        "    keras.layers.Dense(256, activation = tensorflow.nn.relu),\n",
        "     keras.layers.Dense(128, activation = tensorflow.nn.relu),\n",
        "    keras.layers.Dense(10, activation = tensorflow.nn.softmax)])\n",
        "\n",
        "modelo.compile(optimizer = 'adam', \n",
        "               loss = 'sparse_categorical_crossentropy')\n",
        "modelo.fit(imagens_treino, identificacoes_treino)"
      ],
      "metadata": {
        "colab": {
          "base_uri": "https://localhost:8080/"
        },
        "id": "X__3SQdfsKgP",
        "outputId": "b47d64f6-a6f6-43f5-ca46-cf5fef653dc3"
      },
      "execution_count": null,
      "outputs": [
        {
          "output_type": "stream",
          "name": "stdout",
          "text": [
            "1875/1875 [==============================] - 13s 6ms/step - loss: 0.4729\n"
          ]
        },
        {
          "output_type": "execute_result",
          "data": {
            "text/plain": [
              "<keras.callbacks.History at 0x7f6d6bfbbf40>"
            ]
          },
          "metadata": {},
          "execution_count": 15
        }
      ]
    },
    {
      "cell_type": "code",
      "source": [
        "modelo = keras.Sequential([\n",
        "    keras.layers.Flatten(input_shape = (28,28)),\n",
        "    keras.layers.Dense(256, activation = tensorflow.nn.relu),\n",
        "    keras.layers.Dense(128, activation = tensorflow.nn.relu),\n",
        "    keras.layers.Dense(64, activation = tensorflow.nn.relu), \n",
        "    keras.layers.Dense(10, activation = tensorflow.nn.softmax)])\n",
        "\n",
        "modelo.compile(optimizer = 'adam', \n",
        "               loss = 'sparse_categorical_crossentropy')\n",
        "modelo.fit(imagens_treino, identificacoes_treino)"
      ],
      "metadata": {
        "colab": {
          "base_uri": "https://localhost:8080/"
        },
        "id": "LG8KOnR8uEoS",
        "outputId": "e6e421fd-d076-47db-bfe9-903a388c8590"
      },
      "execution_count": null,
      "outputs": [
        {
          "output_type": "stream",
          "name": "stdout",
          "text": [
            "1875/1875 [==============================] - 13s 7ms/step - loss: 0.4838\n"
          ]
        },
        {
          "output_type": "execute_result",
          "data": {
            "text/plain": [
              "<keras.callbacks.History at 0x7f6d6beed450>"
            ]
          },
          "metadata": {},
          "execution_count": 16
        }
      ]
    },
    {
      "cell_type": "markdown",
      "source": [
        "* Infelizmente adicionar camadas não está retornando melhorias significativas, e aumenta o tempo de processamento. Melhor não adicionar camadas novas\n",
        "\n",
        "* Podemos aumentar a quantidade de treinos atribuindo parâmetro epochs maior que 1. E para adicionar uma métrica adicionamos metrics no compile."
      ],
      "metadata": {
        "id": "httuNaU7u6cB"
      }
    },
    {
      "cell_type": "code",
      "source": [
        "modelo = keras.Sequential([\n",
        "    keras.layers.Flatten(input_shape = (28,28)),\n",
        "    keras.layers.Dense(256, activation = tensorflow.nn.relu),\n",
        "     keras.layers.Dense(128, activation = tensorflow.nn.relu),\n",
        "    keras.layers.Dense(10, activation = tensorflow.nn.softmax)])\n",
        "\n",
        "modelo.compile(optimizer = 'adam', \n",
        "               loss = 'sparse_categorical_crossentropy')\n",
        "modelo.fit(imagens_treino, identificacoes_treino, epochs = 5)"
      ],
      "metadata": {
        "colab": {
          "base_uri": "https://localhost:8080/"
        },
        "id": "04KrHv1PumHQ",
        "outputId": "751fe9df-0153-4db7-aea0-76cbefb8e843"
      },
      "execution_count": null,
      "outputs": [
        {
          "output_type": "stream",
          "name": "stdout",
          "text": [
            "Epoch 1/5\n",
            "1875/1875 [==============================] - 12s 6ms/step - loss: 0.4727\n",
            "Epoch 2/5\n",
            "1875/1875 [==============================] - 12s 6ms/step - loss: 0.3569\n",
            "Epoch 3/5\n",
            "1875/1875 [==============================] - 12s 6ms/step - loss: 0.3218\n",
            "Epoch 4/5\n",
            "1875/1875 [==============================] - 12s 6ms/step - loss: 0.2998\n",
            "Epoch 5/5\n",
            "1875/1875 [==============================] - 12s 6ms/step - loss: 0.2824\n"
          ]
        },
        {
          "output_type": "execute_result",
          "data": {
            "text/plain": [
              "<keras.callbacks.History at 0x7f6d6bc3a260>"
            ]
          },
          "metadata": {},
          "execution_count": 17
        }
      ]
    },
    {
      "cell_type": "code",
      "source": [
        "modelo = keras.Sequential([\n",
        "    keras.layers.Flatten(input_shape = (28,28)),\n",
        "    keras.layers.Dense(256, activation = tensorflow.nn.relu),\n",
        "     keras.layers.Dense(128, activation = tensorflow.nn.relu),\n",
        "    keras.layers.Dense(10, activation = tensorflow.nn.softmax)])\n",
        "\n",
        "modelo.compile(optimizer = 'adam', \n",
        "               loss = 'sparse_categorical_crossentropy',\n",
        "               metrics = ['accuracy'])\n",
        "modelo.fit(imagens_treino, identificacoes_treino, epochs = 5)"
      ],
      "metadata": {
        "colab": {
          "base_uri": "https://localhost:8080/"
        },
        "id": "38blaE8t1eiY",
        "outputId": "b27ea5d8-495c-4d0d-f2ac-cc5606eb5b2a"
      },
      "execution_count": null,
      "outputs": [
        {
          "output_type": "stream",
          "name": "stdout",
          "text": [
            "Epoch 1/5\n",
            "1875/1875 [==============================] - 13s 6ms/step - loss: 0.4727 - accuracy: 0.8293\n",
            "Epoch 2/5\n",
            "1875/1875 [==============================] - 12s 6ms/step - loss: 0.3573 - accuracy: 0.8677\n",
            "Epoch 3/5\n",
            "1875/1875 [==============================] - 19s 10ms/step - loss: 0.3222 - accuracy: 0.8806\n",
            "Epoch 4/5\n",
            "1875/1875 [==============================] - 17s 9ms/step - loss: 0.2995 - accuracy: 0.8889\n",
            "Epoch 5/5\n",
            "1875/1875 [==============================] - 16s 9ms/step - loss: 0.2805 - accuracy: 0.8952\n"
          ]
        },
        {
          "output_type": "execute_result",
          "data": {
            "text/plain": [
              "<keras.callbacks.History at 0x7f6d6bb567d0>"
            ]
          },
          "metadata": {},
          "execution_count": 18
        }
      ]
    },
    {
      "cell_type": "markdown",
      "source": [
        "# Testando o modelo"
      ],
      "metadata": {
        "id": "NpZMzjGs2a36"
      }
    },
    {
      "cell_type": "code",
      "source": [
        "testes = modelo.predict(imagens_teste)"
      ],
      "metadata": {
        "colab": {
          "base_uri": "https://localhost:8080/"
        },
        "id": "oZHHozUS2EI1",
        "outputId": "8f09d18b-ff1b-4f75-b77c-9c0b45a06155"
      },
      "execution_count": null,
      "outputs": [
        {
          "output_type": "stream",
          "name": "stdout",
          "text": [
            "313/313 [==============================] - 1s 4ms/step\n"
          ]
        }
      ]
    },
    {
      "cell_type": "code",
      "source": [
        "testes[0]"
      ],
      "metadata": {
        "colab": {
          "base_uri": "https://localhost:8080/"
        },
        "id": "XddTK51z2e8q",
        "outputId": "fe4f8411-ecfe-4867-889a-40f44a90a5a8"
      },
      "execution_count": null,
      "outputs": [
        {
          "output_type": "execute_result",
          "data": {
            "text/plain": [
              "array([0.        , 0.        , 0.        , 0.        , 0.        ,\n",
              "       0.        , 0.        , 0.        , 0.        , 0.99999994],\n",
              "      dtype=float32)"
            ]
          },
          "metadata": {},
          "execution_count": 20
        }
      ]
    },
    {
      "cell_type": "code",
      "source": [
        "print('Resultados testes:', np.argmax(testes[0]))\n",
        "print('Numero da imagem teste:', identificacoes_teste[0])"
      ],
      "metadata": {
        "colab": {
          "base_uri": "https://localhost:8080/"
        },
        "id": "lTukB0N42h8H",
        "outputId": "ad0fe717-2a4f-4a54-fadd-464fd3790c77"
      },
      "execution_count": null,
      "outputs": [
        {
          "output_type": "stream",
          "name": "stdout",
          "text": [
            "Resultados testes: 9\n",
            "Numero da imagem teste: 9\n"
          ]
        }
      ]
    },
    {
      "cell_type": "code",
      "source": [
        "perda_teste, acuracia_teste = modelo.evaluate(imagens_teste, identificacoes_teste)\n",
        "print(f'Perda do Teste: {perda_teste} \\n Acurácia: {acuracia_teste}')"
      ],
      "metadata": {
        "colab": {
          "base_uri": "https://localhost:8080/"
        },
        "id": "fmNSjwBG2wgc",
        "outputId": "28e6afff-5285-4834-dd98-85736c21c66e"
      },
      "execution_count": null,
      "outputs": [
        {
          "output_type": "stream",
          "name": "stdout",
          "text": [
            "313/313 [==============================] - 1s 3ms/step - loss: 48.3038 - accuracy: 0.8632\n",
            "Perda do Teste: 48.30384826660156 \n",
            " Acurácia: 0.8632000088691711\n"
          ]
        }
      ]
    },
    {
      "cell_type": "code",
      "source": [
        "print(f'Perda do Teste: {perda_teste} \\n Acurácia: {acuracia_teste}')"
      ],
      "metadata": {
        "colab": {
          "base_uri": "https://localhost:8080/"
        },
        "id": "-wW0kgY135Jf",
        "outputId": "cd3f1020-3f4e-47e4-ae14-a4209c940f45"
      },
      "execution_count": null,
      "outputs": [
        {
          "output_type": "stream",
          "name": "stdout",
          "text": [
            "Perda do Teste: 48.30384826660156 \n",
            " Acurácia: 0.8632000088691711\n"
          ]
        }
      ]
    },
    {
      "cell_type": "markdown",
      "source": [
        "# Validação\n",
        "\n",
        "É preciso explicar no fit que quer validação. "
      ],
      "metadata": {
        "id": "0ajDtPHP6B-F"
      }
    },
    {
      "cell_type": "code",
      "source": [
        "modelo = keras.Sequential([\n",
        "    keras.layers.Flatten(input_shape = (28,28)),\n",
        "    keras.layers.Dense(256, activation = tensorflow.nn.relu),\n",
        "     keras.layers.Dense(128, activation = tensorflow.nn.relu),\n",
        "    keras.layers.Dense(10, activation = tensorflow.nn.softmax)])\n",
        "\n",
        "modelo.compile(optimizer = 'adam', \n",
        "               loss = 'sparse_categorical_crossentropy',\n",
        "               metrics = ['accuracy'])\n",
        "historico = modelo.fit(imagens_treino, identificacoes_treino, epochs = 5, validation_split = 0.2)"
      ],
      "metadata": {
        "colab": {
          "base_uri": "https://localhost:8080/"
        },
        "id": "j1rqq0W06Bqz",
        "outputId": "aab38e1b-3c61-42ca-88ec-4f5304f19778"
      },
      "execution_count": null,
      "outputs": [
        {
          "output_type": "stream",
          "name": "stdout",
          "text": [
            "Epoch 1/5\n",
            "1500/1500 [==============================] - 13s 8ms/step - loss: 2.7938 - accuracy: 0.7450 - val_loss: 0.6347 - val_accuracy: 0.7859\n",
            "Epoch 2/5\n",
            "1500/1500 [==============================] - 11s 7ms/step - loss: 0.5556 - accuracy: 0.8107 - val_loss: 0.5861 - val_accuracy: 0.7947\n",
            "Epoch 3/5\n",
            "1500/1500 [==============================] - 8s 5ms/step - loss: 0.4908 - accuracy: 0.8295 - val_loss: 0.4871 - val_accuracy: 0.8278\n",
            "Epoch 4/5\n",
            "1500/1500 [==============================] - 7s 5ms/step - loss: 0.4609 - accuracy: 0.8397 - val_loss: 0.4738 - val_accuracy: 0.8354\n",
            "Epoch 5/5\n",
            "1500/1500 [==============================] - 8s 5ms/step - loss: 0.4304 - accuracy: 0.8488 - val_loss: 0.4807 - val_accuracy: 0.8342\n"
          ]
        }
      ]
    },
    {
      "cell_type": "code",
      "source": [
        "historico.history"
      ],
      "metadata": {
        "colab": {
          "base_uri": "https://localhost:8080/"
        },
        "id": "nKjc_UKa4LUQ",
        "outputId": "c9056216-3070-471d-d231-7db9f629c0df"
      },
      "execution_count": null,
      "outputs": [
        {
          "output_type": "execute_result",
          "data": {
            "text/plain": [
              "{'loss': [2.7938127517700195,\n",
              "  0.5556128621101379,\n",
              "  0.4907524287700653,\n",
              "  0.4609290063381195,\n",
              "  0.4303843080997467],\n",
              " 'accuracy': [0.7450208067893982,\n",
              "  0.8106666803359985,\n",
              "  0.8295208215713501,\n",
              "  0.8397291898727417,\n",
              "  0.8488125205039978],\n",
              " 'val_loss': [0.6347388625144958,\n",
              "  0.5861074328422546,\n",
              "  0.4871111214160919,\n",
              "  0.4737645983695984,\n",
              "  0.4806618392467499],\n",
              " 'val_accuracy': [0.7859166860580444,\n",
              "  0.7946666479110718,\n",
              "  0.827833354473114,\n",
              "  0.8354166746139526,\n",
              "  0.8342499732971191]}"
            ]
          },
          "metadata": {},
          "execution_count": 7
        }
      ]
    },
    {
      "cell_type": "code",
      "source": [
        "historico.history['accuracy']"
      ],
      "metadata": {
        "colab": {
          "base_uri": "https://localhost:8080/"
        },
        "id": "W05LOLx4hmag",
        "outputId": "89095e9a-864c-4474-b6cd-b848e59fbca5"
      },
      "execution_count": null,
      "outputs": [
        {
          "output_type": "execute_result",
          "data": {
            "text/plain": [
              "[0.7450208067893982,\n",
              " 0.8106666803359985,\n",
              " 0.8295208215713501,\n",
              " 0.8397291898727417,\n",
              " 0.8488125205039978]"
            ]
          },
          "metadata": {},
          "execution_count": 8
        }
      ]
    },
    {
      "cell_type": "code",
      "source": [
        "plt.plot(historico.history['accuracy'])\n",
        "plt.plot(historico.history['val_accuracy'])\n",
        "plt.title('Acurário por Épocas')\n",
        "plt.xlabel('Épocas')\n",
        "plt.ylabel('Acurácia')\n",
        "plt.legend(['Treino', 'Validação'])"
      ],
      "metadata": {
        "colab": {
          "base_uri": "https://localhost:8080/",
          "height": 493
        },
        "id": "woF0Wi_Ihl8K",
        "outputId": "a6b1cd9b-aa23-4eeb-813d-095a0eeffb68"
      },
      "execution_count": null,
      "outputs": [
        {
          "output_type": "execute_result",
          "data": {
            "text/plain": [
              "<matplotlib.legend.Legend at 0x7f32fb48fa00>"
            ]
          },
          "metadata": {},
          "execution_count": 13
        },
        {
          "output_type": "display_data",
          "data": {
            "text/plain": [
              "<Figure size 640x480 with 1 Axes>"
            ],
            "image/png": "[encoded data removed]"
          },
          "metadata": {}
        }
      ]
    },
    {
      "cell_type": "code",
      "source": [
        "plt.plot(historico.history['loss'])\n",
        "plt.plot(historico.history['val_loss'])\n",
        "plt.title('Perda por Épocas')\n",
        "plt.xlabel('Épocas')\n",
        "plt.ylabel('Perdas')\n",
        "plt.legend(['Treino', 'Validação'])"
      ],
      "metadata": {
        "colab": {
          "base_uri": "https://localhost:8080/",
          "height": 493
        },
        "id": "R3sOxbE9h28k",
        "outputId": "d6320632-5b98-46bf-de02-939cedeafa89"
      },
      "execution_count": null,
      "outputs": [
        {
          "output_type": "execute_result",
          "data": {
            "text/plain": [
              "<matplotlib.legend.Legend at 0x7f32fb86c730>"
            ]
          },
          "metadata": {},
          "execution_count": 14
        },
        {
          "output_type": "display_data",
          "data": {
            "text/plain": [
              "<Figure size 640x480 with 1 Axes>"
            ],
            "image/png": "[encoded data removed]"
          },
          "metadata": {}
        }
      ]
    },
    {
      "cell_type": "markdown",
      "source": [
        "* Tomar sempre cuidado com a quantidade de treinamento: Treinar pouco causa Underfitting, enquanto treinar demais causa overfitting. \n",
        "\n",
        "* Uma tática de melhorar o problemas de under e over fitting é utilizar dropout para \"adormecer\" alguns neurônios. "
      ],
      "metadata": {
        "id": "xLdDAbrHjb4U"
      }
    },
    {
      "cell_type": "code",
      "source": [
        "modelo = keras.Sequential([\n",
        "    keras.layers.Flatten(input_shape = (28,28)),\n",
        "    keras.layers.Dense(256, activation = tensorflow.nn.relu),\n",
        "     keras.layers.Dense(128, activation = tensorflow.nn.relu),\n",
        "    keras.layers.Dropout(0.2),\n",
        "    keras.layers.Dense(10, activation = tensorflow.nn.softmax)])\n",
        "\n",
        "modelo.compile(optimizer = 'adam', \n",
        "               loss = 'sparse_categorical_crossentropy',\n",
        "               metrics = ['accuracy'])\n",
        "historico = modelo.fit(imagens_treino, identificacoes_treino, epochs = 5, validation_split = 0.2)"
      ],
      "metadata": {
        "colab": {
          "base_uri": "https://localhost:8080/"
        },
        "id": "4--czdiHimH2",
        "outputId": "7d038d59-e0e0-43d4-ffbb-12d24f1be243"
      },
      "execution_count": null,
      "outputs": [
        {
          "output_type": "stream",
          "name": "stdout",
          "text": [
            "Epoch 1/5\n",
            "1500/1500 [==============================] - 11s 6ms/step - loss: 2.1347 - accuracy: 0.5938 - val_loss: 0.8662 - val_accuracy: 0.6832\n",
            "Epoch 2/5\n",
            "1500/1500 [==============================] - 8s 5ms/step - loss: 0.8792 - accuracy: 0.6651 - val_loss: 0.7295 - val_accuracy: 0.7335\n",
            "Epoch 3/5\n",
            "1500/1500 [==============================] - 10s 6ms/step - loss: 0.8045 - accuracy: 0.6923 - val_loss: 0.6486 - val_accuracy: 0.7666\n",
            "Epoch 4/5\n",
            "1500/1500 [==============================] - 10s 7ms/step - loss: 0.7422 - accuracy: 0.7170 - val_loss: 0.7281 - val_accuracy: 0.6893\n",
            "Epoch 5/5\n",
            "1500/1500 [==============================] - 9s 6ms/step - loss: 0.6973 - accuracy: 0.7343 - val_loss: 0.5360 - val_accuracy: 0.8228\n"
          ]
        }
      ]
    },
    {
      "cell_type": "code",
      "source": [
        "plt.plot(historico.history['accuracy'])\n",
        "plt.plot(historico.history['val_accuracy'])\n",
        "plt.title('Acurário por Épocas')\n",
        "plt.xlabel('Épocas')\n",
        "plt.ylabel('Acurácia')\n",
        "plt.legend(['Treino', 'Validação'])"
      ],
      "metadata": {
        "colab": {
          "base_uri": "https://localhost:8080/",
          "height": 493
        },
        "id": "S2T6Ki04kcl3",
        "outputId": "74f877f8-f344-4d39-cbbc-16340e878465"
      },
      "execution_count": null,
      "outputs": [
        {
          "output_type": "execute_result",
          "data": {
            "text/plain": [
              "<matplotlib.legend.Legend at 0x7f32fb17b370>"
            ]
          },
          "metadata": {},
          "execution_count": 16
        },
        {
          "output_type": "display_data",
          "data": {
            "text/plain": [
              "<Figure size 640x480 with 1 Axes>"
            ],
            "image/png": "[encoded data removed]"
          },
          "metadata": {}
        }
      ]
    },
    {
      "cell_type": "code",
      "source": [
        "plt.plot(historico.history['loss'])\n",
        "plt.plot(historico.history['val_loss'])\n",
        "plt.title('Perda por Épocas')\n",
        "plt.xlabel('Épocas')\n",
        "plt.ylabel('Perdas')\n",
        "plt.legend(['Treino', 'Validação'])"
      ],
      "metadata": {
        "colab": {
          "base_uri": "https://localhost:8080/",
          "height": 493
        },
        "id": "lDj3HJ7dktOY",
        "outputId": "308c17ea-9875-49df-aece-4274a7a331af"
      },
      "execution_count": null,
      "outputs": [
        {
          "output_type": "execute_result",
          "data": {
            "text/plain": [
              "<matplotlib.legend.Legend at 0x7f32fb140df0>"
            ]
          },
          "metadata": {},
          "execution_count": 17
        },
        {
          "output_type": "display_data",
          "data": {
            "text/plain": [
              "<Figure size 640x480 with 1 Axes>"
            ],
            "image/png": "[encoded data removed]"
          },
          "metadata": {}
        }
      ]
    },
    {
      "cell_type": "markdown",
      "source": [
        "# Salvar modelo"
      ],
      "metadata": {
        "id": "wLYRQqYik6kW"
      }
    },
    {
      "cell_type": "code",
      "source": [
        "modelo = keras.Sequential([\n",
        "    keras.layers.Flatten(input_shape = (28,28)),\n",
        "    keras.layers.Dense(256, activation = tensorflow.nn.relu),\n",
        "     keras.layers.Dense(128, activation = tensorflow.nn.relu),\n",
        "    keras.layers.Dense(10, activation = tensorflow.nn.softmax)])\n",
        "\n",
        "modelo.compile(optimizer = 'adam', \n",
        "               loss = 'sparse_categorical_crossentropy',\n",
        "               metrics = ['accuracy'])\n",
        "historico = modelo.fit(imagens_treino, identificacoes_treino, epochs = 5, validation_split = 0.2)\n",
        "modelo.save('Modelo.h5')"
      ],
      "metadata": {
        "colab": {
          "base_uri": "https://localhost:8080/"
        },
        "id": "Q27ShR87kvCB",
        "outputId": "e4785366-89c3-4ac4-ed8a-32842ccbbc14"
      },
      "execution_count": null,
      "outputs": [
        {
          "output_type": "stream",
          "name": "stdout",
          "text": [
            "Epoch 1/5\n",
            "1500/1500 [==============================] - 10s 6ms/step - loss: 2.8077 - accuracy: 0.7498 - val_loss: 0.7861 - val_accuracy: 0.7725\n",
            "Epoch 2/5\n",
            "1500/1500 [==============================] - 9s 6ms/step - loss: 0.5989 - accuracy: 0.8033 - val_loss: 0.6541 - val_accuracy: 0.7800\n",
            "Epoch 3/5\n",
            "1500/1500 [==============================] - 8s 5ms/step - loss: 0.5202 - accuracy: 0.8207 - val_loss: 0.5267 - val_accuracy: 0.8276\n",
            "Epoch 4/5\n",
            "1500/1500 [==============================] - 7s 5ms/step - loss: 0.4826 - accuracy: 0.8289 - val_loss: 0.4600 - val_accuracy: 0.8368\n",
            "Epoch 5/5\n",
            "1500/1500 [==============================] - 8s 5ms/step - loss: 0.4317 - accuracy: 0.8436 - val_loss: 0.4655 - val_accuracy: 0.8291\n"
          ]
        }
      ]
    },
    {
      "cell_type": "code",
      "source": [
        "from tensorflow.keras.models  import load_model\n",
        "modelo_salvo = load_model('Modelo.h5')"
      ],
      "metadata": {
        "id": "O-6duYr1k73t"
      },
      "execution_count": null,
      "outputs": []
    },
    {
      "cell_type": "code",
      "source": [
        "tst_salvo = modelo_salvo.predict(imagens_teste)\n",
        "print('Resultado do Modelo salvo:', np.argmax(tst_salvo[1]))\n",
        "print('Resultado Correto :', identificacoes_teste[1])"
      ],
      "metadata": {
        "colab": {
          "base_uri": "https://localhost:8080/"
        },
        "id": "dmwVDEVwlU-n",
        "outputId": "de57494b-b0cd-4d2e-dbce-b9673dde7a72"
      },
      "execution_count": null,
      "outputs": [
        {
          "output_type": "stream",
          "name": "stdout",
          "text": [
            "313/313 [==============================] - 1s 2ms/step\n",
            "Resultado do Modelo salvo: 2\n",
            "Resultado Correto : 2\n"
          ]
        }
      ]
    },
    {
      "cell_type": "code",
      "source": [],
      "metadata": {
        "id": "LHidDu4yljZN"
      },
      "execution_count": null,
      "outputs": []
    }
  ]
}