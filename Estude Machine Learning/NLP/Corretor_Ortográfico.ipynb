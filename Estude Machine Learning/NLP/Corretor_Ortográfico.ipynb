{
  "nbformat": 4,
  "nbformat_minor": 0,
  "metadata": {
    "colab": {
      "name": "Machine_Learning-Corretor_Ortográfico.ipynb",
      "provenance": []
    },
    "kernelspec": {
      "name": "python3",
      "display_name": "Python 3"
    },
    "language_info": {
      "name": "python"
    }
  },
  "cells": [
    {
      "cell_type": "markdown",
      "source": [
        "# ***Discussão do projeto***\n",
        "****\n",
        "**Neste projeto será abordado uma aplicação de machine learning para corretor ortográfico. O objetivo é passar uma palavra ao computador e ele retornar com a palavra correta.**\n",
        "\n",
        "****"
      ],
      "metadata": {
        "id": "O1kLJrHXxx8D"
      }
    },
    {
      "cell_type": "markdown",
      "source": [
        "# Importado as palavras e aprimorando os arquivos\n",
        "**Importando um banco de palavras é importante nos perguntar quantas palavras nós temos, se há palavras o suficiente para conseguirmos realziar o projeto**"
      ],
      "metadata": {
        "id": "-PgHnpIGvd6i"
      }
    },
    {
      "cell_type": "code",
      "execution_count": 1,
      "metadata": {
        "colab": {
          "base_uri": "https://localhost:8080/"
        },
        "id": "wSd52Wd5ur9f",
        "outputId": "6d3f077e-f761-4e55-cbd5-61e083a9d95f"
      },
      "outputs": [
        {
          "output_type": "stream",
          "name": "stdout",
          "text": [
            "\n",
            "\n",
            "\n",
            "imagem \n",
            "\n",
            "Temos a seguinte classe que representa um usuário no nosso sistema:\n",
            "\n",
            "java\n",
            "\n",
            "Para salvar um novo usuário, várias validações são feitas, como por exemplo: Ver se o nome só contém letras, [**o CPF só números**] e ver se o usuário possui no mínimo 18 anos. Veja o método que faz essa validação:\n",
            "\n",
            "java \n",
            "\n",
            "Suponha agora que eu tenha outra classe, a classe `Produto`, que contém um atributo nome e eu quero fazer a mesma validação que fiz para o nome do usuário: Ver se só contém letras. E aí? Vou\n"
          ]
        }
      ],
      "source": [
        "with open(\"artigos.txt\", \"r\") as f:\n",
        "  artigos = f.read()\n",
        "\n",
        "print(artigos[:500])"
      ]
    },
    {
      "cell_type": "markdown",
      "source": [
        "**Quantas palavras temos?**"
      ],
      "metadata": {
        "id": "tRi0OS4Pym21"
      }
    },
    {
      "cell_type": "code",
      "source": [
        "print(len(artigos),len('ola'))"
      ],
      "metadata": {
        "id": "mkm1XhLzvywF",
        "colab": {
          "base_uri": "https://localhost:8080/"
        },
        "outputId": "5919e29c-0daf-47f5-e035-2bd7ea31a4e2"
      },
      "execution_count": 2,
      "outputs": [
        {
          "output_type": "stream",
          "name": "stdout",
          "text": [
            "2605046 3\n"
          ]
        }
      ]
    },
    {
      "cell_type": "markdown",
      "source": [
        "**Não há 2605046 palavras em artigos. Este número se refere aos caracteres**"
      ],
      "metadata": {
        "id": "8E54n3V4y5SM"
      }
    },
    {
      "cell_type": "code",
      "source": [
        "texto_exemplo = 'Ola, Tudo bem?'"
      ],
      "metadata": {
        "id": "30mIJ-6EyvBS"
      },
      "execution_count": 3,
      "outputs": []
    },
    {
      "cell_type": "markdown",
      "source": [
        "**Um token é uma separa, uma identificação**"
      ],
      "metadata": {
        "id": "TAcPds-nzmO4"
      }
    },
    {
      "cell_type": "code",
      "source": [
        "tokens = texto_exemplo.split()\n",
        "tokens"
      ],
      "metadata": {
        "colab": {
          "base_uri": "https://localhost:8080/"
        },
        "id": "lYCK4hSZyzNL",
        "outputId": "a1b1e60d-01ff-4069-a573-906f8ea71fbb"
      },
      "execution_count": 4,
      "outputs": [
        {
          "output_type": "execute_result",
          "data": {
            "text/plain": [
              "['Ola,', 'Tudo', 'bem?']"
            ]
          },
          "metadata": {},
          "execution_count": 4
        }
      ]
    },
    {
      "cell_type": "markdown",
      "source": [
        "**Note que algumas palavras vem em conjunto com as pontuações. Como olá, e bem?**\n",
        "**Precisamos então refinar estas palavras, alterá-las de forma que elas sejam palavras sem pontuações, palavras corretas**"
      ],
      "metadata": {
        "id": "rrsGkwaizVTU"
      }
    },
    {
      "cell_type": "markdown",
      "source": [
        "## Refinando os Tokens\n",
        "**O que iremos fazer se chama tokenização. E neste passo vamos refinar os tokens para termos apenas palavras exatas da nossa língua**\n",
        "\n",
        "**Vamos utilizar a biblioteca nltk, que é uma ferramente de NLP (processamento de linguagem natural), para fazer tokens mais precisos e exatos para nós**\n",
        "\n",
        "[link nltk](https://www.nltk.org)"
      ],
      "metadata": {
        "id": "LpgUL3zmz6m0"
      }
    },
    {
      "cell_type": "code",
      "source": [
        "import nltk\n",
        "nltk.download('punkt')"
      ],
      "metadata": {
        "colab": {
          "base_uri": "https://localhost:8080/"
        },
        "id": "y5QMHnnF259J",
        "outputId": "1927781b-5bc2-4bb7-ad39-965a772dfdfe"
      },
      "execution_count": 5,
      "outputs": [
        {
          "output_type": "stream",
          "name": "stdout",
          "text": [
            "[nltk_data] Downloading package punkt to /root/nltk_data...\n",
            "[nltk_data]   Package punkt is already up-to-date!\n"
          ]
        },
        {
          "output_type": "execute_result",
          "data": {
            "text/plain": [
              "True"
            ]
          },
          "metadata": {},
          "execution_count": 5
        }
      ]
    },
    {
      "cell_type": "code",
      "source": [
        "nltk.download('punkt')\n",
        "palavras_separadas = nltk.tokenize.word_tokenize(texto_exemplo)  #Dentro do parênteses deverá ser passado uma string\n",
        "print(palavras_separadas)"
      ],
      "metadata": {
        "colab": {
          "base_uri": "https://localhost:8080/"
        },
        "id": "g_9IIB3zzN9I",
        "outputId": "b2b59021-6da4-46a3-ce36-1ee3c667979e"
      },
      "execution_count": 6,
      "outputs": [
        {
          "output_type": "stream",
          "name": "stdout",
          "text": [
            "[nltk_data] Downloading package punkt to /root/nltk_data...\n",
            "[nltk_data]   Package punkt is already up-to-date!\n",
            "['Ola', ',', 'Tudo', 'bem', '?']\n"
          ]
        }
      ]
    },
    {
      "cell_type": "markdown",
      "source": [
        "**Função para tirar as pontuações da lista e um teste exemplo**"
      ],
      "metadata": {
        "id": "ikhPEFa_6X-n"
      }
    },
    {
      "cell_type": "code",
      "source": [
        "def separa_palavras(lista_tokens):\n",
        "  lista_palavras = []\n",
        "  for i in lista_tokens:\n",
        "    if i.isalpha():\n",
        "      lista_palavras.append(i)\n",
        "  return lista_palavras"
      ],
      "metadata": {
        "id": "o7-qxgLL3qur"
      },
      "execution_count": 7,
      "outputs": []
    },
    {
      "cell_type": "code",
      "source": [
        "separa_palavras(palavras_separadas)"
      ],
      "metadata": {
        "colab": {
          "base_uri": "https://localhost:8080/"
        },
        "id": "GPt42OJJ43A9",
        "outputId": "4309644b-10e5-4d96-c30f-81cbe5cf48b9"
      },
      "execution_count": 8,
      "outputs": [
        {
          "output_type": "execute_result",
          "data": {
            "text/plain": [
              "['Ola', 'Tudo', 'bem']"
            ]
          },
          "metadata": {},
          "execution_count": 8
        }
      ]
    },
    {
      "cell_type": "markdown",
      "source": [
        "**Vamos fazer a tokenização para o nosso corpus de palavras**"
      ],
      "metadata": {
        "id": "_1t7NLz46gld"
      }
    },
    {
      "cell_type": "code",
      "source": [
        "lista_tokens = nltk.tokenize.word_tokenize(artigos)\n",
        "lista_palavras= separa_palavras(lista_tokens)"
      ],
      "metadata": {
        "id": "ySQFgMWT472C"
      },
      "execution_count": 9,
      "outputs": []
    },
    {
      "cell_type": "code",
      "source": [
        "len(lista_palavras)"
      ],
      "metadata": {
        "colab": {
          "base_uri": "https://localhost:8080/"
        },
        "id": "8fKe7QvA68KF",
        "outputId": "ee3cba66-a264-4ebb-8b51-c13cbe428256"
      },
      "execution_count": 10,
      "outputs": [
        {
          "output_type": "execute_result",
          "data": {
            "text/plain": [
              "393914"
            ]
          },
          "metadata": {},
          "execution_count": 10
        }
      ]
    },
    {
      "cell_type": "markdown",
      "source": [
        "**Pergunta: Será que destes tanto de palavras em lista_palavras há palavras repetidas?**"
      ],
      "metadata": {
        "id": "08KfW5Xe7LBi"
      }
    },
    {
      "cell_type": "code",
      "source": [
        "print(lista_palavras[:10],lista_palavras.count('você'))"
      ],
      "metadata": {
        "colab": {
          "base_uri": "https://localhost:8080/"
        },
        "id": "2U-2uCsP7CjR",
        "outputId": "7a614325-6678-4dae-991e-b67acfeeb129"
      },
      "execution_count": 11,
      "outputs": [
        {
          "output_type": "stream",
          "name": "stdout",
          "text": [
            "['imagem', 'Temos', 'a', 'seguinte', 'classe', 'que', 'representa', 'um', 'usuário', 'no'] 1881\n"
          ]
        }
      ]
    },
    {
      "cell_type": "markdown",
      "source": [
        "**Há mais de 1000 palavras 'você' na lista de palavras, indicando que há palavras repetidas. Agora vamos normalizar estas palavras, que são os passos:**\n",
        "\n",
        "*   deixar tudo no minúsculo\n",
        "*   Retirar duplicatas\n",
        "\n",
        "\n"
      ],
      "metadata": {
        "id": "O50OF3wN7zZI"
      }
    },
    {
      "cell_type": "code",
      "source": [
        "def normalizacao(lista_palavras):\n",
        "  lista_normalizada = []\n",
        "  for palavra in lista_palavras:\n",
        "    lista_normalizada.append(palavra.lower())\n",
        "  return lista_normalizada"
      ],
      "metadata": {
        "id": "_T4OP61V7YJb"
      },
      "execution_count": 12,
      "outputs": []
    },
    {
      "cell_type": "code",
      "source": [
        "lista_normalizada = normalizacao(lista_palavras)"
      ],
      "metadata": {
        "id": "SLMeBLG58fkZ"
      },
      "execution_count": 13,
      "outputs": []
    },
    {
      "cell_type": "code",
      "source": [
        "lista_normalizada[:5]    #Normalizamos a lista"
      ],
      "metadata": {
        "colab": {
          "base_uri": "https://localhost:8080/"
        },
        "id": "6GnyJDNO92dT",
        "outputId": "5f33281a-ee94-45ec-cbf4-e2867eb31519"
      },
      "execution_count": 14,
      "outputs": [
        {
          "output_type": "execute_result",
          "data": {
            "text/plain": [
              "['imagem', 'temos', 'a', 'seguinte', 'classe']"
            ]
          },
          "metadata": {},
          "execution_count": 14
        }
      ]
    },
    {
      "cell_type": "markdown",
      "source": [
        "**A função built-in set() forma grupos de uma lista, retornando os valores dentro da lista únicos, sem repetições**"
      ],
      "metadata": {
        "id": "2YK6kVim-eC_"
      }
    },
    {
      "cell_type": "code",
      "source": [
        "set([1,1,2,3,3,3,3,3,5,4,4,6])    #Exemplo da função set()"
      ],
      "metadata": {
        "colab": {
          "base_uri": "https://localhost:8080/"
        },
        "id": "G51XazqK94hx",
        "outputId": "6ce9f593-81da-45cf-acfa-89061f596709"
      },
      "execution_count": 15,
      "outputs": [
        {
          "output_type": "execute_result",
          "data": {
            "text/plain": [
              "{1, 2, 3, 4, 5, 6}"
            ]
          },
          "metadata": {},
          "execution_count": 15
        }
      ]
    },
    {
      "cell_type": "markdown",
      "source": [
        "**Com a normalização e a lista sem palavras repetidas teremos os tipos de palavras. Os tipos são as palavras que poderemos corrigir durante o uso do programa**"
      ],
      "metadata": {
        "id": "5pb8tY-R-yPh"
      }
    },
    {
      "cell_type": "code",
      "source": [
        "print(f'O total de palavras que poderemos corrigir é: {len(set(lista_normalizada))}')\n"
      ],
      "metadata": {
        "colab": {
          "base_uri": "https://localhost:8080/"
        },
        "id": "gdO01Fhq-sSr",
        "outputId": "4549e3fd-35ab-4066-e99c-db30d6783c45"
      },
      "execution_count": 16,
      "outputs": [
        {
          "output_type": "stream",
          "name": "stdout",
          "text": [
            "O total de palavras que poderemos corrigir é: 17652\n"
          ]
        }
      ]
    },
    {
      "cell_type": "markdown",
      "source": [
        "#  Construindo o corretor Básico\n",
        "**O correto irá funcionar da seguinte forma: Ao passar uma palavras errada o programa irá colocar várias letras em uma determina posição e averiguar as palavras formadas desta forma está dentro do banco de palavras conhecidas(palavras normalizadas)**\n",
        "\n",
        "**Será feito novamente o mesmo processo inserindo letras em outra posição e fazendo a verificação, e assim por diante até acertar a letra e a posição. Note que este é programa que se espera uma palavra errada com apenas uma letra faltante**"
      ],
      "metadata": {
        "id": "PdPuNWtb_egM"
      }
    },
    {
      "cell_type": "code",
      "source": [
        "palavra_exemplo = 'lgica'\n",
        "(palavra_exemplo[:1],palavra_exemplo[1:])    #Note que foi possível fatiar a string e separar ela em lados direito e esquerdo de um espaço"
      ],
      "metadata": {
        "colab": {
          "base_uri": "https://localhost:8080/"
        },
        "id": "zeFjhFS4C_J2",
        "outputId": "00c063ee-8ae9-4487-83e7-a129ef20eaa9"
      },
      "execution_count": 17,
      "outputs": [
        {
          "output_type": "execute_result",
          "data": {
            "text/plain": [
              "('l', 'gica')"
            ]
          },
          "metadata": {},
          "execution_count": 17
        }
      ]
    },
    {
      "cell_type": "markdown",
      "source": [
        "**O insere letra faz a parte de pegar as diferentes formas de pegar o lado direito e esquerdo de uma palavra, e coloca entre eles uma letra do alfabeto porguês**"
      ],
      "metadata": {
        "id": "4H1w7w7fHSe9"
      }
    },
    {
      "cell_type": "code",
      "source": [
        "def insere_letras(fatias):\n",
        "  novas_palavras = []\n",
        "  letras = 'abcdefghijklmnopqrstuvwxyzàáâãèéêìíîòóôõùúûç'\n",
        "  for E, D in fatias:\n",
        "    for letra in letras:\n",
        "      novas_palavras.append(E + letra + D)\n",
        "  return novas_palavras"
      ],
      "metadata": {
        "id": "hZlBV6g-ktp4"
      },
      "execution_count": 18,
      "outputs": []
    },
    {
      "cell_type": "markdown",
      "source": [
        "**O gerador palavras faz o papel de fatiar a palavra escrita, passar para o insere letra e pedir a ele as várias palavras criadas da inserção de letras. Ele retorna uma lista com as várias palavras criadas**\n",
        "\n",
        "**O nltk tem uma função que avaliar a distruibuição de frequências das palavras de um certo conjunto de palavras. Para calcular a probabilidade de cada palavras iremos utilizar a conta p = freq/total_de_palavras.**\n",
        "\n",
        "**A função corretor escolhe a palavra certa dentre todas as palavras. Para tal vamos usar a função max() que escolhe a palavra com maior probabilidade entre todas**\n",
        "\n"
      ],
      "metadata": {
        "id": "2dyzmp9_HhKU"
      }
    },
    {
      "cell_type": "code",
      "source": [
        "def gerador_palavras(palavra):\n",
        "  fatias = []\n",
        "  for i in range(len(palavra)+1):\n",
        "    fatias.append((palavra[:i],palavra[i:]))\n",
        "  palavras_geradas = insere_letras(fatias)\n",
        "  return palavras_geradas"
      ],
      "metadata": {
        "id": "91A_dCItkuuu"
      },
      "execution_count": 31,
      "outputs": []
    },
    {
      "cell_type": "code",
      "source": [
        "frequencia = nltk.FreqDist(lista_normalizada)\n",
        "total_palavras = len(lista_normalizada)\n",
        "\n",
        "def probabilidade(palavra_gerada):\n",
        "  return frequencia[palavra_gerada]/total_palavras\n",
        "probabilidade('lógica')\n",
        "\n",
        "def corretor(palavra):\n",
        "  palavras_geradas = gerador_palavras(palavra)\n",
        "  palavra_correta =  max(palavras_geradas, key = probabilidade)\n",
        "  return palavra_correta"
      ],
      "metadata": {
        "id": "bk1v58fSlL-Z"
      },
      "execution_count": 32,
      "outputs": []
    },
    {
      "cell_type": "markdown",
      "source": [
        "# Avaliador \n",
        "**vamos criar um avaliador que irá fornecer a taxa de acerto do corretor. Os passo são:**\n",
        "\n",
        "\n",
        "*   Obter dados para teste\n",
        "*   Criar o avaliador\n",
        "\n"
      ],
      "metadata": {
        "id": "zh_1kbThaccu"
      }
    },
    {
      "cell_type": "code",
      "source": [
        "def cria_dados_teste(nome_arquivo):\n",
        "    lista_palavras_teste = []\n",
        "    f = open(nome_arquivo, \"r\")\n",
        "    for linha in f:\n",
        "        correta, errada = linha.split()\n",
        "        lista_palavras_teste.append((correta, errada))\n",
        "    f.close()\n",
        "    return lista_palavras_teste\n",
        "\n",
        "lista_teste = cria_dados_teste(\"palavras.txt\")\n",
        "lista_teste"
      ],
      "metadata": {
        "colab": {
          "base_uri": "https://localhost:8080/"
        },
        "id": "DvEypM9lU55m",
        "outputId": "65bca562-97d7-4e91-a4e2-dd200b8ba964"
      },
      "execution_count": 33,
      "outputs": [
        {
          "output_type": "execute_result",
          "data": {
            "text/plain": [
              "[('podemos', 'pyodemos'),\n",
              " ('esse', 'esje'),\n",
              " ('já', 'jrá'),\n",
              " ('nosso', 'nossov'),\n",
              " ('são', 'sãêo'),\n",
              " ('dos', 'dosa'),\n",
              " ('muito', 'muifo'),\n",
              " ('imagem', 'iômagem'),\n",
              " ('sua', 'ósua'),\n",
              " ('também', 'tambéùm'),\n",
              " ('ele', 'eme'),\n",
              " ('fazer', 'èazer'),\n",
              " ('temos', 'temfs'),\n",
              " ('essa', 'eàssa'),\n",
              " ('quando', 'quaôdo'),\n",
              " ('vamos', 'vamvos'),\n",
              " ('sobre', 'hsobre'),\n",
              " ('java', 'sjava'),\n",
              " ('das', 'daõs'),\n",
              " ('agora', 'agorah'),\n",
              " ('está', 'eòtá'),\n",
              " ('cada', 'céda'),\n",
              " ('mesmo', 'zmesmo'),\n",
              " ('nos', 'noâ'),\n",
              " ('forma', 'fobma'),\n",
              " ('seja', 'sejéa'),\n",
              " ('então', 'enêão'),\n",
              " ('criar', 'èriar'),\n",
              " ('código', 'cóeigo'),\n",
              " ('caso', 'casío'),\n",
              " ('exemplo', 'áexemplo'),\n",
              " ('tem', 'tĩem'),\n",
              " ('usuário', 'usuárôio'),\n",
              " ('dados', 'dfados'),\n",
              " ('python', 'pgthon'),\n",
              " ('nossa', 'nossah'),\n",
              " ('além', 'alémè'),\n",
              " ('assim', 'asõim'),\n",
              " ('ter', 'teb'),\n",
              " ('até', 'atĩ'),\n",
              " ('bem', 'âem'),\n",
              " ('design', 'desigen'),\n",
              " ('trabalho', 'trabalàho'),\n",
              " ('foi', 'foo'),\n",
              " ('apenas', 'apenaũ'),\n",
              " ('empresa', 'empresà'),\n",
              " ('valor', 'valíor'),\n",
              " ('será', 'serr'),\n",
              " ('entre', 'entke'),\n",
              " ('método', 'méqodo'),\n",
              " ('precisamos', 'precisamops'),\n",
              " ('ainda', 'ainàa'),\n",
              " ('vai', 'van'),\n",
              " ('conteúdo', 'ûconteúdo'),\n",
              " ('seus', 'çeus'),\n",
              " ('eu', 'eû'),\n",
              " ('todos', 'todtos'),\n",
              " ('tempo', 'temeo'),\n",
              " ('sempre', 'semre'),\n",
              " ('qual', 'quakl'),\n",
              " ('ela', 'elaá'),\n",
              " ('só', 'síó'),\n",
              " ('utilizar', 'utiqizar'),\n",
              " ('projeto', 'prhojeto'),\n",
              " ('site', 'siàe'),\n",
              " ('sem', 'seém'),\n",
              " ('pelo', 'peln'),\n",
              " ('alura', 'aléra'),\n",
              " ('dia', 'tdia'),\n",
              " ('tudo', 'tuúo'),\n",
              " ('podemos', 'kpodemos'),\n",
              " ('esse', 'eẽsse'),\n",
              " ('já', 'jé'),\n",
              " ('nosso', 'nçosso'),\n",
              " ('são', 'sãô'),\n",
              " ('dos', 'odos'),\n",
              " ('muito', 'tuito'),\n",
              " ('imagem', 'imõgem'),\n",
              " ('sua', 'siua'),\n",
              " ('também', 'tamvbém'),\n",
              " ('ele', 'elpe'),\n",
              " ('fazer', 'façzer'),\n",
              " ('temos', 'teos'),\n",
              " ('essa', 'eũsa'),\n",
              " ('quando', 'quaìdo'),\n",
              " ('vamos', 'vjmos'),\n",
              " ('sobre', 'sxobre'),\n",
              " ('java', 'jkva'),\n",
              " ('das', 'dms'),\n",
              " ('agora', 'agtora'),\n",
              " ('está', 'esútá'),\n",
              " ('cada', 'cava'),\n",
              " ('mesmo', 'medmo'),\n",
              " ('nos', 'ános'),\n",
              " ('forma', 'forûa'),\n",
              " ('seja', 'smeja'),\n",
              " ('então', 'enjtão'),\n",
              " ('criar', 'criôar'),\n",
              " ('código', 'cóàigo'),\n",
              " ('caso', 'èaso'),\n",
              " ('exemplo', 'exbemplo'),\n",
              " ('tem', 'túem'),\n",
              " ('usuário', 'usuárin'),\n",
              " ('dados', 'daáos'),\n",
              " ('python', 'pythoçn'),\n",
              " ('nossa', 'nossk'),\n",
              " ('além', 'âlém'),\n",
              " ('assim', 'aóssim'),\n",
              " ('ter', 'tãer'),\n",
              " ('até', 'vté'),\n",
              " ('bem', 'búm'),\n",
              " ('design', 'íesign'),\n",
              " ('trabalho', 'trabèalho'),\n",
              " ('foi', 'kfoi'),\n",
              " ('apenas', 'aapenas'),\n",
              " ('empresa', 'pmpresa'),\n",
              " ('valor', 'valoqr'),\n",
              " ('será', 'sçerá'),\n",
              " ('entre', 'entró'),\n",
              " ('método', 'nétodo'),\n",
              " ('precisamos', 'prefcisamos'),\n",
              " ('ainda', 'sainda'),\n",
              " ('vai', 'uai'),\n",
              " ('conteúdo', 'cĩonteúdo'),\n",
              " ('seus', 'sâus'),\n",
              " ('eu', 'ìeu'),\n",
              " ('todos', 'todás'),\n",
              " ('tempo', 'utempo'),\n",
              " ('sempre', 'sempce'),\n",
              " ('qual', 'fual'),\n",
              " ('ela', 'elal'),\n",
              " ('só', 'skó'),\n",
              " ('utilizar', 'utilĩzar'),\n",
              " ('projeto', 'proójeto'),\n",
              " ('site', 'isite'),\n",
              " ('sem', 'secm'),\n",
              " ('pelo', 'pẽlo'),\n",
              " ('alura', 'aluéa'),\n",
              " ('dia', 'dil'),\n",
              " ('tudo', 'tudy'),\n",
              " ('ela', 'qelay'),\n",
              " ('só', 'sód'),\n",
              " ('utilizar', 'dtilizacr'),\n",
              " ('projeto', 'bprojõto'),\n",
              " ('site', 'ysiteo'),\n",
              " ('sem', 'sõêm'),\n",
              " ('pelo', 'peàli'),\n",
              " ('alura', 'asuraó'),\n",
              " ('dia', 'deiìa'),\n",
              " ('tudo', 'tuĩdoì'),\n",
              " ('ela', 'eúaa'),\n",
              " ('só', 'ró'),\n",
              " ('utilizar', 'utilizẽaçr'),\n",
              " ('projeto', 'prêjetó'),\n",
              " ('site', 'sqiqte'),\n",
              " ('sem', 'sũexm'),\n",
              " ('pelo', 'pçlxo'),\n",
              " ('alura', 'uluraa'),\n",
              " ('dia', 'dĩaz'),\n",
              " ('tudo', 'kzudo'),\n",
              " ('corretor', 'correptor'),\n",
              " ('tática', 'trtica'),\n",
              " ('empoderamento', 'ewpoderamento'),\n",
              " ('linux', 'lifux'),\n",
              " ('cachorro', 'cachoçro'),\n",
              " ('gato', 'îgato'),\n",
              " ('cavalo', 'cakvalo'),\n",
              " ('relógio', 'relógiuo'),\n",
              " ('canela', 'canelac'),\n",
              " ('tênis', 'tênisy'),\n",
              " ('ansiosa', 'anciosa'),\n",
              " ('ansiosa', 'ancciosa'),\n",
              " ('ansiosa', 'ansioa'),\n",
              " ('empoderamento', 'empoderamento'),\n",
              " ('asterisco', 'asterístico'),\n",
              " ('gratuito', 'gratuíto'),\n",
              " ('entretido', 'entertido'),\n",
              " ('ritmo', 'ritimo'),\n",
              " ('idiota', 'indiota'),\n",
              " ('tomara', 'tomare'),\n",
              " ('seja', 'seje'),\n",
              " ('prevalecer', 'provalecer'),\n",
              " ('esteja', 'esteje'),\n",
              " ('mendigo', 'mindigo'),\n",
              " ('cérebro', 'célebro'),\n",
              " ('perturbar', 'pertubar')]"
            ]
          },
          "metadata": {},
          "execution_count": 33
        }
      ]
    },
    {
      "cell_type": "code",
      "source": [
        "def avaliador(testes):\n",
        "  numero_palavras = len(testes)\n",
        "  acertou = 0\n",
        "  for correta, errada in testes:\n",
        "    palavra_corrigida = corretor(errada)\n",
        "    if palavra_corrigida == correta:\n",
        "      acertou += 1\n",
        "  taxa_acerto = round(acertou*100/numero_palavras,5)\n",
        "  print(f'{taxa_acerto}% de {numero_palavras}')\n",
        "  return taxa_acerto"
      ],
      "metadata": {
        "id": "tQeGqUi8b0GS"
      },
      "execution_count": 34,
      "outputs": []
    },
    {
      "cell_type": "code",
      "source": [
        "palavra_exemplo = 'lgica'\n",
        "palavras_g = gerador_palavras(palavra_exemplo)\n",
        "'lógica' in palavras_g"
      ],
      "metadata": {
        "colab": {
          "base_uri": "https://localhost:8080/"
        },
        "id": "-iMiFuUWNwmA",
        "outputId": "6017cdf0-6456-4324-c667-9d730dc51745"
      },
      "execution_count": 35,
      "outputs": [
        {
          "output_type": "execute_result",
          "data": {
            "text/plain": [
              "True"
            ]
          },
          "metadata": {},
          "execution_count": 35
        }
      ]
    },
    {
      "cell_type": "code",
      "source": [
        "avaliador(lista_teste)"
      ],
      "metadata": {
        "colab": {
          "base_uri": "https://localhost:8080/"
        },
        "id": "hlv_JwMhIVGm",
        "outputId": "83ff06c9-7064-4f44-f04b-44e0b116214e"
      },
      "execution_count": 36,
      "outputs": [
        {
          "output_type": "stream",
          "name": "stdout",
          "text": [
            "1.07527% de 186\n"
          ]
        },
        {
          "output_type": "execute_result",
          "data": {
            "text/plain": [
              "1.07527"
            ]
          },
          "metadata": {},
          "execution_count": 36
        }
      ]
    },
    {
      "cell_type": "markdown",
      "source": [
        "**O resultado do nosso avaliador indica que a taxa de acertos é minúscula. Precisamos aumentar a taxa de acertos melhorando o corretor**"
      ],
      "metadata": {
        "id": "s2ftS2Xcmx0u"
      }
    },
    {
      "cell_type": "markdown",
      "source": [
        "# Melhorando o corretor"
      ],
      "metadata": {
        "id": "eamlBvj-m_xn"
      }
    },
    {
      "cell_type": "markdown",
      "source": [
        "**Existem outros tipos de erros na hora de digitar uma palavras, e para cada tipo de erro foi criada uma função que o corrige**\n",
        "\n",
        "**Das formas de errar podemos: Colocar letras a mais, escrever uma letra errada e errar a ordem de escrever as letras**\n",
        "\n",
        "**O deletando_caracteres apaga letras e cria várias palavras diferentes. O Troca_letras troca cada letra da palavras por outras. E o inverte_letras muda a posição das letras com a do lado direito.**\n",
        "\n",
        "**Também alteramos o gerador de palavras para aceitar todos os métodos de correção**"
      ],
      "metadata": {
        "id": "7ZlRnQ-PHrye"
      }
    },
    {
      "cell_type": "code",
      "source": [
        "def deletando_caracteres(fatias):\n",
        "  novas_palavras = []\n",
        "  for E, D in fatias:\n",
        "    novas_palavras.append(E+D[1:])\n",
        "  return novas_palavras\n",
        "\n",
        "\n",
        "def troca_letras(fatias):\n",
        "  novas_palavras = []\n",
        "  letras = 'abcdefghijklmnopqrstuvwxyzàáâãèéêìíîòóôõùúûç'\n",
        "  for E, D in fatias:\n",
        "    for letra in letras:\n",
        "      novas_palavras.append(E + letra + D[1:])\n",
        "  return novas_palavras\n",
        "\n",
        "def inverte_letras(fatias):\n",
        "  novas_palavras = []\n",
        "  for E, D in fatias:\n",
        "    if len(D) > 1:\n",
        "      novas_palavras.append(E + D[1] + D[0] + D[2:])\n",
        "  return novas_palavras\n",
        "\n",
        "def gerador_palavras(palavra):\n",
        "  fatias = []\n",
        "  for i in range(len(palavra)+1):\n",
        "    fatias.append((palavra[:i],palavra[i:]))\n",
        "  palavras_geradas = insere_letras(fatias)\n",
        "  palavras_geradas += deletando_caracteres(fatias)\n",
        "  palavras_geradas += troca_letras(fatias)\n",
        "  palavras_geradas += inverte_letras(fatias)\n",
        "  return palavras_geradas"
      ],
      "metadata": {
        "id": "knCNvbQuq4V2"
      },
      "execution_count": 40,
      "outputs": []
    },
    {
      "cell_type": "markdown",
      "source": [
        "**Abaixo temos**"
      ],
      "metadata": {
        "id": "zWewFfZSP06h"
      }
    },
    {
      "cell_type": "code",
      "source": [
        "avaliador(lista_teste)"
      ],
      "metadata": {
        "colab": {
          "base_uri": "https://localhost:8080/"
        },
        "id": "Z1MnJq-sOs4I",
        "outputId": "ae288e05-38eb-444e-e9e9-e90cda6cdd06"
      },
      "execution_count": 41,
      "outputs": [
        {
          "output_type": "stream",
          "name": "stdout",
          "text": [
            "76.34409% de 186\n"
          ]
        },
        {
          "output_type": "execute_result",
          "data": {
            "text/plain": [
              "76.34409"
            ]
          },
          "metadata": {},
          "execution_count": 41
        }
      ]
    },
    {
      "cell_type": "markdown",
      "source": [
        "**Temos um método de corretor muito melhor agora**"
      ],
      "metadata": {
        "id": "5XWNmH3W2mWu"
      }
    },
    {
      "cell_type": "markdown",
      "source": [
        "# Palavras Desconhecidas\n",
        "**Vamos ver quantas palavras desconhecidas temos**"
      ],
      "metadata": {
        "id": "VWCVlUuoV9zg"
      }
    },
    {
      "cell_type": "code",
      "source": [
        "def avaliador(testes, vocabulario):\n",
        "  numero_palavras = len(testes)\n",
        "  acertou = 0\n",
        "  desconhecida = 0\n",
        "  for correta, errada in testes:\n",
        "    palavra_corrigida = corretor(errada)\n",
        "    if palavra_corrigida == correta:\n",
        "      acertou += 1\n",
        "    else:\n",
        "      desconhecida += (correta not in vocabulario)\n",
        "  taxa_acerto = round(acertou*100/numero_palavras,2)\n",
        "  taxa_desconhecida = round(desconhecida*100/numero_palavras,2)\n",
        "  print(f'Acertou: {taxa_acerto}%, desconhece {taxa_desconhecida}% de {numero_palavras}. ')\n",
        "  return taxa_acerto\n",
        "\n",
        "vocabulario = set(lista_normalizada)\n",
        "avaliador(lista_teste,vocabulario)"
      ],
      "metadata": {
        "colab": {
          "base_uri": "https://localhost:8080/"
        },
        "id": "IpgSM_SxWACr",
        "outputId": "3df5c908-d265-4cc3-9220-785eb618e19b"
      },
      "execution_count": 42,
      "outputs": [
        {
          "output_type": "stream",
          "name": "stdout",
          "text": [
            "Acertou: 76.34%, desconhece 6.99% de 186. \n"
          ]
        },
        {
          "output_type": "execute_result",
          "data": {
            "text/plain": [
              "76.34"
            ]
          },
          "metadata": {},
          "execution_count": 42
        }
      ]
    },
    {
      "cell_type": "code",
      "source": [
        ""
      ],
      "metadata": {
        "id": "Ql1VEWOpW8u-"
      },
      "execution_count": null,
      "outputs": []
    },
    {
      "cell_type": "markdown",
      "source": [
        "# Turbinando o gerador de palavras e desenvolvendo novo corretor\n",
        "**O tubina_palavras é criado para corrigir palavras que possuem dois erros. Vamos criar ele de forma a gerar palavras a partir das palavras geradas. Depois o avaliaremos**"
      ],
      "metadata": {
        "id": "V6EJSsJ6ZT3B"
      }
    },
    {
      "cell_type": "code",
      "source": [
        "def Turbina_palavras(palavras_geradas):\n",
        "  novas_palavras = []\n",
        "  for palavra in palavras_geradas:\n",
        "    novas_palavras += gerador_palavras(palavra)\n",
        "  return novas_palavras"
      ],
      "metadata": {
        "id": "mlGfMgfcZXJi"
      },
      "execution_count": 43,
      "outputs": []
    },
    {
      "cell_type": "code",
      "source": [
        "palavras_n = Turbina_palavras(gerador_palavras('lógiica'))\n",
        "'lógica' in palavras_n"
      ],
      "metadata": {
        "colab": {
          "base_uri": "https://localhost:8080/"
        },
        "id": "OU_tkOzDZsLZ",
        "outputId": "92ed9879-54a7-4707-e472-b68eb5f55a72"
      },
      "execution_count": 44,
      "outputs": [
        {
          "output_type": "execute_result",
          "data": {
            "text/plain": [
              "True"
            ]
          },
          "metadata": {},
          "execution_count": 44
        }
      ]
    },
    {
      "cell_type": "code",
      "source": [
        "len(palavras_n)"
      ],
      "metadata": {
        "colab": {
          "base_uri": "https://localhost:8080/"
        },
        "id": "Y2YlgaK1Zx6_",
        "outputId": "3bfd66ab-35df-4f24-bfaf-10a8ac6d8db1"
      },
      "execution_count": 45,
      "outputs": [
        {
          "output_type": "execute_result",
          "data": {
            "text/plain": [
              "550534"
            ]
          },
          "metadata": {},
          "execution_count": 45
        }
      ]
    },
    {
      "cell_type": "markdown",
      "source": [
        "**Para diminuir a quantidade de palavras totais vamos alterar o corretor para ele ter que avaliar as probabilidades de menos palavras e ter mais chances de retornar o valor correto.**\n",
        "\n",
        "**Ele funciona verificando se a palavra existe no nosso vocabulário, e assim exclui as que não existem.**"
      ],
      "metadata": {
        "id": "Eg3GbQ34bdQH"
      }
    },
    {
      "cell_type": "code",
      "source": [
        "def novo_corretor(palavra):\n",
        "  palavras_geradas = gerador_palavras(palavra)\n",
        "  palavras_turbinadas = Turbina_palavras(palavras_geradas)\n",
        "  todas_palavras = set(palavras_geradas + palavras_turbinadas)\n",
        "  candidatos =[palavra]\n",
        "  for i in todas_palavras:\n",
        "    if i in vocabulario:\n",
        "      candidatos.append(i)\n",
        "  palavra_correta =  max(candidatos, key = probabilidade)\n",
        "  return palavra_correta"
      ],
      "metadata": {
        "id": "QG-cP07HZ-8p"
      },
      "execution_count": 46,
      "outputs": []
    },
    {
      "cell_type": "code",
      "source": [
        "novo_corretor('ligica')"
      ],
      "metadata": {
        "colab": {
          "base_uri": "https://localhost:8080/",
          "height": 35
        },
        "id": "fpcWnwWPcSla",
        "outputId": "39dae4c9-5189-4570-ca1d-ce7a81db8cd6"
      },
      "execution_count": 48,
      "outputs": [
        {
          "output_type": "execute_result",
          "data": {
            "text/plain": [
              "'lógica'"
            ],
            "application/vnd.google.colaboratory.intrinsic+json": {
              "type": "string"
            }
          },
          "metadata": {},
          "execution_count": 48
        }
      ]
    },
    {
      "cell_type": "markdown",
      "source": [
        "# Qual método corretor é melhor?\n",
        "**O novo_corretor funciona com o gerador de palavras turbinadas, e o velho corretor funciona com o gerador de palavras não turbinado. Qual deles tem o melhor desempenho e deverá ser aceito como o definitivo?**\n",
        "\n",
        "**O novo_avaliador é temporário, criado apenas para ver como qual a perfomace do novo corretor.**"
      ],
      "metadata": {
        "id": "CHR4_BLYd4ye"
      }
    },
    {
      "cell_type": "code",
      "source": [
        "def novo_avaliador(testes, vocabulario):\n",
        "  numero_palavras = len(testes)\n",
        "  acertou = 0\n",
        "  desconhecida = 0\n",
        "  for correta, errada in testes:\n",
        "    palavra_corrigida = novo_corretor(errada)\n",
        "    desconhecida += (correta not in vocabulario)\n",
        "    if palavra_corrigida == correta:\n",
        "      acertou += 1\n",
        "  taxa_acerto = round(acertou*100/numero_palavras,2)\n",
        "  taxa_desconhecida = round(desconhecida*100/numero_palavras,2)\n",
        "  print(f'Acertou: {taxa_acerto}%, desconhece {taxa_desconhecida}% de {numero_palavras}. ')\n",
        "  return taxa_acerto"
      ],
      "metadata": {
        "id": "pzKHy7CfceAy"
      },
      "execution_count": 49,
      "outputs": []
    },
    {
      "cell_type": "code",
      "source": [
        "novo_avaliador(lista_teste,vocabulario)"
      ],
      "metadata": {
        "colab": {
          "base_uri": "https://localhost:8080/"
        },
        "id": "SxRNqwYMd_wl",
        "outputId": "f4dfd3ff-4498-4595-a5b6-a3ff78488228"
      },
      "execution_count": 50,
      "outputs": [
        {
          "output_type": "stream",
          "name": "stdout",
          "text": [
            "Acertou: 55.91%, desconhece 6.99% de 186. \n"
          ]
        },
        {
          "output_type": "execute_result",
          "data": {
            "text/plain": [
              "55.91"
            ]
          },
          "metadata": {},
          "execution_count": 50
        }
      ]
    },
    {
      "cell_type": "code",
      "source": [
        "avaliador(lista_teste,vocabulario)"
      ],
      "metadata": {
        "colab": {
          "base_uri": "https://localhost:8080/"
        },
        "id": "6tdy370EeFKl",
        "outputId": "3b213cda-85b8-4bf0-ea62-6588ae5bb299"
      },
      "execution_count": 51,
      "outputs": [
        {
          "output_type": "stream",
          "name": "stdout",
          "text": [
            "Acertou: 76.34%, desconhece 6.99% de 186. \n"
          ]
        },
        {
          "output_type": "execute_result",
          "data": {
            "text/plain": [
              "76.34"
            ]
          },
          "metadata": {},
          "execution_count": 51
        }
      ]
    },
    {
      "cell_type": "markdown",
      "source": [
        "**Dado que o novo corretor está errando mais palavras devemos ver o que está acontecendo e escolher um corretor definitivo. Para isso criei a função temporária (que deverá ser excluida no momento da aplicação) para verificar a performace dos dois corretores**"
      ],
      "metadata": {
        "id": "jAWQJJtGgPyJ"
      }
    },
    {
      "cell_type": "code",
      "source": [
        "def verifica_performace(testes, vocabulario):\n",
        "  numero_palavras = len(testes)\n",
        "  acertou = 0\n",
        "  desconhecida = 0\n",
        "  palavra_perfomace=[]\n",
        "  for correta, errada in testes:\n",
        "    palavra_corrigida = novo_corretor(errada)\n",
        "    desconhecida += (correta not in vocabulario)\n",
        "    if palavra_corrigida == correta:\n",
        "      acertou += 1\n",
        "    else:\n",
        "      palavra_perfomace.append(errada +'-'+correta + '-' +palavra_corrigida)\n",
        "  return palavra_perfomace"
      ],
      "metadata": {
        "id": "-oZeiJkNgOpA"
      },
      "execution_count": 52,
      "outputs": []
    },
    {
      "cell_type": "code",
      "source": [
        "palavras_perfomace= verifica_performace(lista_teste,vocabulario)"
      ],
      "metadata": {
        "id": "1ems1s3yhIgP"
      },
      "execution_count": 53,
      "outputs": []
    },
    {
      "cell_type": "code",
      "source": [
        "palavras_perfomace[:10]"
      ],
      "metadata": {
        "colab": {
          "base_uri": "https://localhost:8080/"
        },
        "id": "kdJ0GFBfhPQ7",
        "outputId": "fb1c487f-726d-44db-868b-8378cb904c85"
      },
      "execution_count": 54,
      "outputs": [
        {
          "output_type": "execute_result",
          "data": {
            "text/plain": [
              "['esje-esse-se',\n",
              " 'sãêo-são-não',\n",
              " 'dosa-dos-do',\n",
              " 'eme-ele-de',\n",
              " 'eàssa-essa-esse',\n",
              " 'daõs-das-da',\n",
              " 'céda-cada-da',\n",
              " 'noâ-nos-o',\n",
              " 'enêão-então-não',\n",
              " 'tĩem-tem-em']"
            ]
          },
          "metadata": {},
          "execution_count": 54
        }
      ]
    },
    {
      "cell_type": "markdown",
      "source": [
        "**Pelas 10 palavras mostradas acima percebemos que as palavras que tiveram a correção errada não estão a duas alterações de distância para obter a resposta certa.**\n",
        "\n",
        "**O que acontece então é que a palavra 'esje' é alterada duas vezes tornando a palavra 'se', e o corretor devolver a palavra que tem maior probabilidade de ser, que é o 'se' pois aparece muito mais vezes no nosso banco de palavras**"
      ],
      "metadata": {
        "id": "kfjDatFwjwLu"
      }
    },
    {
      "cell_type": "markdown",
      "source": [
        "# Corretor Definitivo"
      ],
      "metadata": {
        "id": "PBbyJgM4kWaF"
      }
    },
    {
      "cell_type": "code",
      "source": [
        "def insere_letras(fatias):\n",
        "  novas_palavras = []\n",
        "  letras = 'abcdefghijklmnopqrstuvwxyzàáâãèéêìíîòóôõùúûç'\n",
        "  for E, D in fatias:\n",
        "    for letra in letras:\n",
        "      novas_palavras.append(E + letra + D)\n",
        "  return novas_palavras\n",
        "\n",
        "def deletando_caracteres(fatias):\n",
        "  novas_palavras = []\n",
        "  for E, D in fatias:\n",
        "    novas_palavras.append(E+D[1:])\n",
        "  return novas_palavras\n",
        "\n",
        "\n",
        "def troca_letras(fatias):\n",
        "  novas_palavras = []\n",
        "  letras = 'abcdefghijklmnopqrstuvwxyzàáâãèéêìíîòóôõùúûç'\n",
        "  for E, D in fatias:\n",
        "    for letra in letras:\n",
        "      novas_palavras.append(E + letra + D[1:])\n",
        "  return novas_palavras\n",
        "\n",
        "def inverte_letras(fatias):\n",
        "  novas_palavras = []\n",
        "  for E, D in fatias:\n",
        "    if len(D) > 1:\n",
        "      novas_palavras.append(E + D[1] + D[0] + D[2:])\n",
        "  return novas_palavras\n",
        "\n",
        "def gerador_palavras(palavra):\n",
        "  fatias = []\n",
        "  for i in range(len(palavra)+1):\n",
        "    fatias.append((palavra[:i],palavra[i:]))\n",
        "  palavras_geradas = insere_letras(fatias)\n",
        "  palavras_geradas += deletando_caracteres(fatias)\n",
        "  palavras_geradas += troca_letras(fatias)\n",
        "  palavras_geradas += inverte_letras(fatias)\n",
        "  return palavras_geradas\n",
        "\n",
        "frequencia = nltk.FreqDist(lista_normalizada)\n",
        "total_palavras = len(lista_normalizada)\n",
        "\n",
        "\n",
        "def probabilidade(palavra_gerada):\n",
        "  return frequencia[palavra_gerada]/total_palavras\n",
        "probabilidade('lógica')\n",
        "\n",
        "def corretor(palavra):\n",
        "  palavras_geradas = gerador_palavras(palavra)\n",
        "  palavra_correta =  max(palavras_geradas, key = probabilidade)\n",
        "  return palavra_correta\n"
      ],
      "metadata": {
        "id": "CjIFkkUwHvs5"
      },
      "execution_count": 55,
      "outputs": []
    },
    {
      "cell_type": "code",
      "source": [
        "corrigida = corretor('mina')\n",
        "print(f'A sua palavra corrigida é {corrigida}')"
      ],
      "metadata": {
        "colab": {
          "base_uri": "https://localhost:8080/"
        },
        "id": "QChfufwA48UB",
        "outputId": "6fbab5d0-8f44-4e5c-e4fb-d6ab2282605f"
      },
      "execution_count": 81,
      "outputs": [
        {
          "output_type": "stream",
          "name": "stdout",
          "text": [
            "A sua palavra corrigida é minha\n"
          ]
        }
      ]
    }
  ]
}
